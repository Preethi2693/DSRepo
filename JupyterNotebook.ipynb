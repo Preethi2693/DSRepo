{
 "cells": [
  {
   "cell_type": "markdown",
   "id": "988b1809-19d1-4dbe-bd48-a1bbb0b2f3f3",
   "metadata": {},
   "source": [
    "# My Jupyter Notebook on IBM Watson Studio"
   ]
  },
  {
   "cell_type": "markdown",
   "id": "98d61c28-8374-4cd7-acae-c6970fe723a7",
   "metadata": {},
   "source": [
    "**Preethi G**\n",
    "\n",
    "Data scientist"
   ]
  },
  {
   "cell_type": "markdown",
   "id": "ca40da97-c617-4e82-9dba-ded076ecbc24",
   "metadata": {},
   "source": [
    "*I am interested in data science because i would like to contribute to the society by finding the solutions from the data we have. I am Particularly interested in Trading and Finance sector*"
   ]
  },
  {
   "cell_type": "markdown",
   "id": "f4074982-1038-472a-a06a-71b11c9f9b91",
   "metadata": {},
   "source": [
    "### Print hello world"
   ]
  },
  {
   "cell_type": "code",
   "execution_count": 2,
   "id": "2e251876-c7bc-42d0-9d26-6e33efdb294c",
   "metadata": {},
   "outputs": [
    {
     "name": "stdout",
     "output_type": "stream",
     "text": [
      "Hello World!!!!!\n"
     ]
    }
   ],
   "source": [
    "print(\"Hello World!!!!!\")"
   ]
  },
  {
   "cell_type": "markdown",
   "id": "c6db308d-891a-4de7-a1d0-c5b44786b4cf",
   "metadata": {},
   "source": [
    "> blockquote\n",
    "\n",
    "\n",
    "<s>Strikethrough</s>\n",
    "\n",
    "* list1\n",
    "* list2\n",
    "* list3\n"
   ]
  }
 ],
 "metadata": {
  "kernelspec": {
   "display_name": "Python",
   "language": "python",
   "name": "conda-env-python-py"
  },
  "language_info": {
   "codemirror_mode": {
    "name": "ipython",
    "version": 3
   },
   "file_extension": ".py",
   "mimetype": "text/x-python",
   "name": "python",
   "nbconvert_exporter": "python",
   "pygments_lexer": "ipython3",
   "version": "3.7.12"
  }
 },
 "nbformat": 4,
 "nbformat_minor": 5
}
